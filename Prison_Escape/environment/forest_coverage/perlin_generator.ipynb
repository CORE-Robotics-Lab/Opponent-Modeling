{
 "cells": [
  {
   "cell_type": "code",
   "execution_count": 4,
   "metadata": {},
   "outputs": [],
   "source": [
    "import noise\n",
    "import numpy as np\n",
    "import matplotlib\n",
    "from mpl_toolkits.mplot3d import axes3d\n",
    "from seaborn import heatmap\n",
    "from tqdm import tqdm\n",
    "import cv2\n",
    "import random"
   ]
  },
  {
   "cell_type": "code",
   "execution_count": 11,
   "metadata": {},
   "outputs": [
    {
     "name": "stderr",
     "output_type": "stream",
     "text": [
      "100%|██████████| 1214/1214 [00:02<00:00, 493.04it/s]\n",
      "100%|██████████| 1214/1214 [00:02<00:00, 483.11it/s]\n",
      " 97%|█████████▋| 1180/1214 [00:02<00:00, 489.33it/s]\n"
     ]
    },
    {
     "ename": "KeyboardInterrupt",
     "evalue": "",
     "output_type": "error",
     "traceback": [
      "\u001b[0;31m---------------------------------------------------------------------------\u001b[0m",
      "\u001b[0;31mKeyboardInterrupt\u001b[0m                         Traceback (most recent call last)",
      "\u001b[1;32m/nethome/sye40/PrisonerEscape/simulator/forest_coverage/perlin_generator.ipynb Cell 2\u001b[0m in \u001b[0;36m<module>\u001b[0;34m\u001b[0m\n\u001b[1;32m     <a href='vscode-notebook-cell://ssh-remote%2Bv-ger.cc.gatech.edu/nethome/sye40/PrisonerEscape/simulator/forest_coverage/perlin_generator.ipynb#ch0000001vscode-remote?line=28'>29</a>\u001b[0m     \u001b[39mreturn\u001b[39;00m avg_data\n\u001b[1;32m     <a href='vscode-notebook-cell://ssh-remote%2Bv-ger.cc.gatech.edu/nethome/sye40/PrisonerEscape/simulator/forest_coverage/perlin_generator.ipynb#ch0000001vscode-remote?line=30'>31</a>\u001b[0m \u001b[39mfor\u001b[39;00m i \u001b[39min\u001b[39;00m \u001b[39mrange\u001b[39m(\u001b[39m1000\u001b[39m):\n\u001b[0;32m---> <a href='vscode-notebook-cell://ssh-remote%2Bv-ger.cc.gatech.edu/nethome/sye40/PrisonerEscape/simulator/forest_coverage/perlin_generator.ipynb#ch0000001vscode-remote?line=31'>32</a>\u001b[0m     img \u001b[39m=\u001b[39m create_world(seed\u001b[39m=\u001b[39;49mi)\n\u001b[1;32m     <a href='vscode-notebook-cell://ssh-remote%2Bv-ger.cc.gatech.edu/nethome/sye40/PrisonerEscape/simulator/forest_coverage/perlin_generator.ipynb#ch0000001vscode-remote?line=32'>33</a>\u001b[0m     np\u001b[39m.\u001b[39msave(\u001b[39mf\u001b[39m\u001b[39m\"\u001b[39m\u001b[39mperlin/\u001b[39m\u001b[39m{\u001b[39;00mi\u001b[39m}\u001b[39;00m\u001b[39m.npy\u001b[39m\u001b[39m\"\u001b[39m, img)\n",
      "\u001b[1;32m/nethome/sye40/PrisonerEscape/simulator/forest_coverage/perlin_generator.ipynb Cell 2\u001b[0m in \u001b[0;36mcreate_world\u001b[0;34m(dim, seed)\u001b[0m\n\u001b[1;32m      <a href='vscode-notebook-cell://ssh-remote%2Bv-ger.cc.gatech.edu/nethome/sye40/PrisonerEscape/simulator/forest_coverage/perlin_generator.ipynb#ch0000001vscode-remote?line=8'>9</a>\u001b[0m \u001b[39mfor\u001b[39;00m i \u001b[39min\u001b[39;00m tqdm(\u001b[39mrange\u001b[39m(shape[\u001b[39m0\u001b[39m])):\n\u001b[1;32m     <a href='vscode-notebook-cell://ssh-remote%2Bv-ger.cc.gatech.edu/nethome/sye40/PrisonerEscape/simulator/forest_coverage/perlin_generator.ipynb#ch0000001vscode-remote?line=9'>10</a>\u001b[0m     \u001b[39mfor\u001b[39;00m j \u001b[39min\u001b[39;00m \u001b[39mrange\u001b[39m(shape[\u001b[39m1\u001b[39m]):\n\u001b[0;32m---> <a href='vscode-notebook-cell://ssh-remote%2Bv-ger.cc.gatech.edu/nethome/sye40/PrisonerEscape/simulator/forest_coverage/perlin_generator.ipynb#ch0000001vscode-remote?line=10'>11</a>\u001b[0m         world[i][j] \u001b[39m=\u001b[39m noise\u001b[39m.\u001b[39;49mpnoise2(i\u001b[39m/\u001b[39;49mscale, \n\u001b[1;32m     <a href='vscode-notebook-cell://ssh-remote%2Bv-ger.cc.gatech.edu/nethome/sye40/PrisonerEscape/simulator/forest_coverage/perlin_generator.ipynb#ch0000001vscode-remote?line=11'>12</a>\u001b[0m                                     j\u001b[39m/\u001b[39;49mscale, \n\u001b[1;32m     <a href='vscode-notebook-cell://ssh-remote%2Bv-ger.cc.gatech.edu/nethome/sye40/PrisonerEscape/simulator/forest_coverage/perlin_generator.ipynb#ch0000001vscode-remote?line=12'>13</a>\u001b[0m                                     octaves\u001b[39m=\u001b[39;49moctaves, \n\u001b[1;32m     <a href='vscode-notebook-cell://ssh-remote%2Bv-ger.cc.gatech.edu/nethome/sye40/PrisonerEscape/simulator/forest_coverage/perlin_generator.ipynb#ch0000001vscode-remote?line=13'>14</a>\u001b[0m                                     persistence\u001b[39m=\u001b[39;49mpersistence, \n\u001b[1;32m     <a href='vscode-notebook-cell://ssh-remote%2Bv-ger.cc.gatech.edu/nethome/sye40/PrisonerEscape/simulator/forest_coverage/perlin_generator.ipynb#ch0000001vscode-remote?line=14'>15</a>\u001b[0m                                     lacunarity\u001b[39m=\u001b[39;49mlacunarity, \n\u001b[1;32m     <a href='vscode-notebook-cell://ssh-remote%2Bv-ger.cc.gatech.edu/nethome/sye40/PrisonerEscape/simulator/forest_coverage/perlin_generator.ipynb#ch0000001vscode-remote?line=15'>16</a>\u001b[0m                                     repeatx\u001b[39m=\u001b[39;49m\u001b[39m1024\u001b[39;49m, \n\u001b[1;32m     <a href='vscode-notebook-cell://ssh-remote%2Bv-ger.cc.gatech.edu/nethome/sye40/PrisonerEscape/simulator/forest_coverage/perlin_generator.ipynb#ch0000001vscode-remote?line=16'>17</a>\u001b[0m                                     repeaty\u001b[39m=\u001b[39;49m\u001b[39m1024\u001b[39;49m, \n\u001b[1;32m     <a href='vscode-notebook-cell://ssh-remote%2Bv-ger.cc.gatech.edu/nethome/sye40/PrisonerEscape/simulator/forest_coverage/perlin_generator.ipynb#ch0000001vscode-remote?line=17'>18</a>\u001b[0m                                     base\u001b[39m=\u001b[39;49mseed)\n\u001b[1;32m     <a href='vscode-notebook-cell://ssh-remote%2Bv-ger.cc.gatech.edu/nethome/sye40/PrisonerEscape/simulator/forest_coverage/perlin_generator.ipynb#ch0000001vscode-remote?line=19'>20</a>\u001b[0m avg_data \u001b[39m=\u001b[39m world\n\u001b[1;32m     <a href='vscode-notebook-cell://ssh-remote%2Bv-ger.cc.gatech.edu/nethome/sye40/PrisonerEscape/simulator/forest_coverage/perlin_generator.ipynb#ch0000001vscode-remote?line=20'>21</a>\u001b[0m target_max \u001b[39m=\u001b[39m \u001b[39m0.8\u001b[39m\n",
      "\u001b[0;31mKeyboardInterrupt\u001b[0m: "
     ]
    }
   ],
   "source": [
    "def create_world(dim=1214, seed=120):\n",
    "    shape = (dim,dim)\n",
    "    scale = 250.0 # how blurry the image is\n",
    "    octaves = 8 # how much variation there is\n",
    "    persistence = 2\n",
    "    lacunarity = 0.99 # lower value makes the regions look closer together\n",
    "\n",
    "    world = np.zeros(shape)\n",
    "    for i in range(shape[0]):\n",
    "        for j in range(shape[1]):\n",
    "            world[i][j] = noise.pnoise2(i/scale, \n",
    "                                        j/scale, \n",
    "                                        octaves=octaves, \n",
    "                                        persistence=persistence, \n",
    "                                        lacunarity=lacunarity, \n",
    "                                        repeatx=1024, \n",
    "                                        repeaty=1024, \n",
    "                                        base=seed)\n",
    "\n",
    "    avg_data = world\n",
    "    target_max = 0.8\n",
    "    target_min = 0.2\n",
    "\n",
    "    min_num = np.min(avg_data)\n",
    "    max_num = np.max(avg_data)\n",
    "    avg_data = (avg_data - min_num) / (max_num - min_num) * (target_max - target_min) + target_min\n",
    "\n",
    "    avg_data = cv2.resize(avg_data, (2428, 2428))\n",
    "    return avg_data\n",
    "\n",
    "for i in tqdm(range(1000)):\n",
    "    img = create_world(seed=i)\n",
    "    np.save(f\"perlin/{i}.npy\", img)\n",
    "\n",
    "# heatmap(img)"
   ]
  }
 ],
 "metadata": {
  "kernelspec": {
   "display_name": "Python 3.9.9 ('prisoner_auto')",
   "language": "python",
   "name": "python3"
  },
  "language_info": {
   "codemirror_mode": {
    "name": "ipython",
    "version": 3
   },
   "file_extension": ".py",
   "mimetype": "text/x-python",
   "name": "python",
   "nbconvert_exporter": "python",
   "pygments_lexer": "ipython3",
   "version": "3.9.9"
  },
  "orig_nbformat": 4,
  "vscode": {
   "interpreter": {
    "hash": "f0c3bfbc0528239c32ebf5b583237c33afb2ab3d4f242283158514eeade34da9"
   }
  }
 },
 "nbformat": 4,
 "nbformat_minor": 2
}
